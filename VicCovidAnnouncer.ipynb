{
 "cells": [
  {
   "cell_type": "markdown",
   "metadata": {},
   "source": [
    "# Setup"
   ]
  },
  {
   "cell_type": "code",
   "execution_count": 158,
   "metadata": {},
   "outputs": [],
   "source": [
    "import requests\n",
    "from bs4 import BeautifulSoup\n",
    "from datetime import date\n",
    "import json\n",
    "import os\n",
    "from twilio.rest import Client\n",
    "# https://chrisyeh96.github.io/2017/08/08/definitive-guide-python-imports.html\n",
    "import config\n",
    "\n",
    "URL = \"https://www.dhhs.vic.gov.au/coronavirus\"\n",
    "OUTPUT_FILE = \"./output/output.txt\"\n",
    "\n",
    "# Your Account Sid and Auth Token from twilio.com/console\n",
    "account_sid = config.TWILIO_ACCOUNT_SID\n",
    "auth_token = config.TWILIO_AUTH_TOKEN\n",
    "client = Client(account_sid, auth_token)"
   ]
  },
  {
   "cell_type": "code",
   "execution_count": 159,
   "metadata": {},
   "outputs": [],
   "source": [
    "def checkCurrentNumbersFromWeb():\n",
    "    page = requests.get(URL)\n",
    "    soup = BeautifulSoup(page.content, 'html.parser')\n",
    "    results = soup.find(class_='covid-number-box')\n",
    "    comment = results.find_all('p')\n",
    "    comment = comment[0].text\n",
    "    updated_date = soup.find(class_='updated')\n",
    "    updated_date = updated_date.find(\"span\").next_sibling\n",
    "    number = results.find(class_='numbers').text\n",
    "    print(\"[DEBUG] Latest from website:\", updated_date, number)\n",
    "    return comment, updated_date, number\n",
    "\n",
    "def check_if_updated(updated_date):\n",
    "    if os.path.getsize(OUTPUT_FILE) == 0:\n",
    "        print(\"[DEBUG] Empty file\")\n",
    "        return False\n",
    "    \n",
    "    with open(OUTPUT_FILE, 'r') as f:\n",
    "        data = json.loads(f.read())\n",
    "        if updated_date in data.keys() and 'VIC' in data[updated_date].keys():\n",
    "            print(\"[DEBUG] Already up-to-date\")\n",
    "            return True\n",
    "        else:\n",
    "            print(\"[DEBUG] Need to update\")\n",
    "            return False\n",
    "\n",
    "def write_to_file(updated_date, number):\n",
    "    if os.path.getsize(OUTPUT_FILE) != 0:\n",
    "        with open(OUTPUT_FILE, 'r') as f:\n",
    "            data = json.loads(f.read())\n",
    "    else:\n",
    "        data = {}\n",
    "        data[updated_date] = {}\n",
    "    \n",
    "    with open(OUTPUT_FILE, 'w') as f:\n",
    "        data[updated_date][\"VIC\"] = number\n",
    "        json.dump(data,f)\n",
    "        print(\"[DEBUG] Update saved to file\")\n",
    "\n",
    "def sendSms(comment, number):\n",
    "    sms_body = f\"{comment}\\n VIC: {number}\"\n",
    "    client.messages.create(body=sms_body, from_=config.FROM_NUMBER, to=config.TO_NUMBER)"
   ]
  },
  {
   "cell_type": "code",
   "execution_count": 160,
   "metadata": {},
   "outputs": [],
   "source": [
    "def main():\n",
    "    comment, updated_date, number = checkCurrentNumbersFromWeb()\n",
    "    if check_if_updated(updated_date) == False:\n",
    "        write_to_file(updated_date, number)\n",
    "        sendSms(comment, number)"
   ]
  },
  {
   "cell_type": "code",
   "execution_count": 161,
   "metadata": {},
   "outputs": [
    {
     "name": "stdout",
     "output_type": "stream",
     "text": [
      "[DEBUG] Latest from website: 25 July 2020   04:54pm 357\n",
      "[DEBUG] Already up-to-date\n"
     ]
    }
   ],
   "source": [
    "main()"
   ]
  },
  {
   "cell_type": "code",
   "execution_count": 146,
   "metadata": {},
   "outputs": [
    {
     "data": {
      "text/plain": [
       "42"
      ]
     },
     "execution_count": 146,
     "metadata": {},
     "output_type": "execute_result"
    }
   ],
   "source": [
    "os.path.getsize(OUTPUT_FILE)"
   ]
  },
  {
   "cell_type": "code",
   "execution_count": null,
   "metadata": {},
   "outputs": [],
   "source": []
  }
 ],
 "metadata": {
  "kernelspec": {
   "display_name": "Python 3",
   "language": "python",
   "name": "python3"
  },
  "language_info": {
   "codemirror_mode": {
    "name": "ipython",
    "version": 3
   },
   "file_extension": ".py",
   "mimetype": "text/x-python",
   "name": "python",
   "nbconvert_exporter": "python",
   "pygments_lexer": "ipython3",
   "version": "3.6.5"
  }
 },
 "nbformat": 4,
 "nbformat_minor": 2
}
