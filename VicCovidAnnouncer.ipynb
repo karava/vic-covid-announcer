{
 "cells": [
  {
   "cell_type": "markdown",
   "metadata": {},
   "source": [
    "# Setup"
   ]
  },
  {
   "cell_type": "code",
   "execution_count": 1,
   "metadata": {},
   "outputs": [],
   "source": [
    "import requests\n",
    "from bs4 import BeautifulSoup\n",
    "from datetime import date\n",
    "import json\n",
    "import os\n",
    "from twilio.rest import Client\n",
    "# https://chrisyeh96.github.io/2017/08/08/definitive-guide-python-imports.html\n",
    "import config\n",
    "\n",
    "URL = \"https://www.dhhs.vic.gov.au/coronavirus\"\n",
    "OUTPUT_FILE = \"./output/output.txt\"\n",
    "\n",
    "# Your Account Sid and Auth Token from twilio.com/console\n",
    "account_sid = config.TWILIO_ACCOUNT_SID\n",
    "auth_token = config.TWILIO_AUTH_TOKEN\n",
    "client = Client(account_sid, auth_token)\n",
    "\n",
    "today = date.today()\n",
    "today = today.strftime(\"%Y-%m-%d\")\n",
    "\n",
    "f1 = open(OUTPUT_FILE, 'w+')"
   ]
  },
  {
   "cell_type": "code",
   "execution_count": 2,
   "metadata": {},
   "outputs": [],
   "source": [
    "def checkCurrentNumbers():\n",
    "    page = requests.get(URL)\n",
    "\n",
    "    soup = BeautifulSoup(page.content, 'html.parser')\n",
    "    results = soup.find(class_='covid-number-box')\n",
    "\n",
    "    comment = results.find_all('p')\n",
    "    comment = comment[0].text\n",
    "    \n",
    "    updated_date = soup.find(class_='updated').text\n",
    "    print(updated_date)\n",
    "\n",
    "    number = results.find(class_='numbers').text\n",
    "    \n",
    "    return comment, number\n",
    "\n",
    "def check_if_updated():\n",
    "    if os.path.getsize(OUTPUT_FILE) == 0:\n",
    "        return False\n",
    "    data = json.loads(f1.read())\n",
    "    if today in data.keys() and 'VIC' in data[today].keys():\n",
    "        print(\"[DEBUG] Already updated\")\n",
    "        return True\n",
    "    else:\n",
    "        print(\"[DEBUG] Need to update\")\n",
    "        return False\n",
    "\n",
    "def writeToFile(number):\n",
    "    if os.path.getsize(OUTPUT_FILE) != 0:\n",
    "        data = json.loads(f1.read())\n",
    "    else:\n",
    "        data = {}\n",
    "        data[today] = {}\n",
    "    data[today][\"VIC\"] = number\n",
    "    json.dump(data,f1)\n",
    "\n",
    "def sendSms(comment, number):\n",
    "    sms_body = f\"{comment}\\n VIC: {number}\"\n",
    "    client.messages.create(body=sms_body, from_=config.FROM_NUMBER, to=config.TO_NUMBER)"
   ]
  },
  {
   "cell_type": "code",
   "execution_count": 3,
   "metadata": {},
   "outputs": [],
   "source": [
    "def main():\n",
    "#     if not check_if_updated():\n",
    "#         print(\"\")\n",
    "#         return\n",
    "#     else:       \n",
    "        #get current numbers\n",
    "    comment, number = checkCurrentNumbers()\n",
    "    #read file and check if current in file\n",
    "    writeToFile(number)\n",
    "    print(comment, number)\n",
    "#     sendSms(comment, number)"
   ]
  },
  {
   "cell_type": "code",
   "execution_count": 4,
   "metadata": {},
   "outputs": [
    {
     "name": "stdout",
     "output_type": "stream",
     "text": [
      "Updated: 25 July 2020   04:54pm\n",
      "new cases (last 24 hours) 357\n"
     ]
    }
   ],
   "source": [
    "main()"
   ]
  },
  {
   "cell_type": "code",
   "execution_count": null,
   "metadata": {},
   "outputs": [],
   "source": []
  }
 ],
 "metadata": {
  "kernelspec": {
   "display_name": "Python 3",
   "language": "python",
   "name": "python3"
  },
  "language_info": {
   "codemirror_mode": {
    "name": "ipython",
    "version": 3
   },
   "file_extension": ".py",
   "mimetype": "text/x-python",
   "name": "python",
   "nbconvert_exporter": "python",
   "pygments_lexer": "ipython3",
   "version": "3.6.5"
  }
 },
 "nbformat": 4,
 "nbformat_minor": 2
}
